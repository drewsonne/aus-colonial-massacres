{
 "cells": [
  {
   "cell_type": "code",
   "execution_count": 2,
   "metadata": {
    "tags": []
   },
   "outputs": [
    {
     "name": "stdout",
     "output_type": "stream",
     "text": [
      "Requirement already satisfied: BeautifulSoup4 in /usr/local/anaconda3/lib/python3.8/site-packages (4.9.3)\n",
      "Requirement already satisfied: soupsieve>1.2 in /usr/local/anaconda3/lib/python3.8/site-packages (from BeautifulSoup4) (2.2.1)\n",
      "Note: you may need to restart the kernel to use updated packages.\n",
      "Requirement already satisfied: requests in /usr/local/anaconda3/lib/python3.8/site-packages (2.25.1)\n",
      "Requirement already satisfied: idna<3,>=2.5 in /usr/local/anaconda3/lib/python3.8/site-packages (from requests) (2.10)\n",
      "Requirement already satisfied: chardet<5,>=3.0.2 in /usr/local/anaconda3/lib/python3.8/site-packages (from requests) (4.0.0)\n",
      "Requirement already satisfied: certifi>=2017.4.17 in /usr/local/anaconda3/lib/python3.8/site-packages (from requests) (2020.12.5)\n",
      "Requirement already satisfied: urllib3<1.27,>=1.21.1 in /usr/local/anaconda3/lib/python3.8/site-packages (from requests) (1.26.4)\n",
      "Note: you may need to restart the kernel to use updated packages.\n"
     ]
    }
   ],
   "source": [
    "%pip install BeautifulSoup4\n",
    "%pip install requests"
   ]
  },
  {
   "cell_type": "markdown",
   "metadata": {},
   "source": [
    "## Parse source page and output machine readable version"
   ]
  },
  {
   "cell_type": "code",
   "execution_count": 3,
   "metadata": {
    "collapsed": false,
    "jupyter": {
     "outputs_hidden": false
    },
    "pycharm": {
     "name": "#%%\n"
    }
   },
   "outputs": [],
   "source": [
    "import json\n",
    "import requests\n",
    "import re\n",
    "from bs4 import BeautifulSoup\n",
    "from typing import List, Dict\n",
    "\n",
    "\n",
    "def build_soup():\n",
    "    html_doc = requests.get('https://c21ch.newcastle.edu.au/colonialmassacres/timeline.php').content\n",
    "\n",
    "    return BeautifulSoup(html_doc, 'html.parser').find(\"table\", { \"id\": \"timeline\" }).find_all('tr')\n",
    "\n",
    "\n",
    "def convert_people(row: str)-> Dict:\n",
    "    result = re.search(r'(?P<count>\\d+) \\((?P<group>[^)]+)\\)', \" \".join(row))\n",
    "    if result:\n",
    "        peoples_count = result.groupdict()\n",
    "        peoples_count['count'] = int(peoples_count['count'])\n",
    "        return peoples_count\n",
    "    \n",
    "    raise Exception(f\"Could not parse row '{row}'\")\n",
    "    \n",
    "def parse_location(location_cell):\n",
    "    return location_cell if isinstance(location_cell, list) else location_cell.contents[0]\n",
    "\n",
    "    \n",
    "def convert_row_to_document(row_contents: List[str]):\n",
    "    return {\n",
    "        'estimated_date': \"\".join(row_contents[0][0]),\n",
    "        'colony':row_contents[1][0],\n",
    "        'location': parse_location(row_contents[2][0]), \n",
    "        'language_group': \" \".join(row_contents[3]), \n",
    "        'estimated_victims_killed': convert_people(row_contents[4]), \n",
    "        'estimated_attackers_killed': convert_people(row_contents[5]), \n",
    "        'sources': \" \".join([str(s) for s in row_contents[6]])\n",
    "    }\n",
    "\n",
    "\n",
    "def extract_tds(raw_row):\n",
    "    return [\n",
    "        cell.contents\n",
    "        for cell \n",
    "        in raw_row.find_all(\"td\")\n",
    "    ]\n",
    "\n",
    "\n",
    "def build_groups():\n",
    "    soup = build_soup()\n",
    "    \n",
    "    \n",
    "    for raw_row in soup[1:]:\n",
    "        doc = convert_row_to_document(extract_tds(raw_row))\n",
    "        yield doc\n",
    "    \n",
    "\n",
    "massacre_data = list(build_groups())\n",
    "\n",
    "with open('aus-colonial-massacres.json', 'w') as fp:\n",
    "    json.dump(massacre_data, fp, indent=4)"
   ]
  },
  {
   "cell_type": "markdown",
   "metadata": {},
   "source": [
    "## Parse machine readable version and create version for plotting"
   ]
  },
  {
   "cell_type": "code",
   "execution_count": 4,
   "metadata": {},
   "outputs": [],
   "source": [
    "# Convert dates to python dates\n",
    "\n",
    "import datetime\n",
    "\n",
    "def clean_date(date_str):\n",
    "    parts = date_str.split(\" \")\n",
    "    parts[0] = parts[0].rjust(2, '0')\n",
    "    padded_date = \" \".join(parts)\n",
    "    return datetime.datetime.strptime(padded_date, '%d %b %Y').isoformat()\n",
    "\n",
    "def parse_estimated_date(estimated_date: str):\n",
    "    if ' to ' in estimated_date:\n",
    "        return dict(zip(['from', 'to'], estimated_date.split(' to ')))\n",
    "    else:\n",
    "        return {'from': estimated_date, 'to': estimated_date}\n",
    "\n",
    "def parse_cleaned_location(location):\n",
    "    return re.sub(r'\\s+?\\(\\d+\\)', '', location)\n",
    "\n",
    "def parse_victims_killed(killed: Dict):\n",
    "    response = {\n",
    "        'killed_victims_aboriginal_people': 0,\n",
    "        'killed_victims_colonisers': 0,\n",
    "        'killed_victims_other': 0\n",
    "    }\n",
    "    if killed['group'] == 'Aboriginal People':\n",
    "        response['killed_victims_aboriginal_people'] = killed['count']\n",
    "    elif killed['group'] == 'Colonisers':\n",
    "        response['killed_victims_colonisers'] = killed['count']\n",
    "    elif killed['group'] == 'Other':\n",
    "        response['killed_victims_other'] = killed['count']\n",
    "    else:\n",
    "        raise Exception(f\"Unexpected group {killed['group']}\")\n",
    "    return response\n",
    "    \n",
    "def parse_attackers_killed(killed: Dict):\n",
    "    response = {\n",
    "        'killed_attackers_aborginal_people': 0,\n",
    "        'killed_attackers_colonisers': 0\n",
    "    }\n",
    "    if killed['group'] == 'Aboriginal People':\n",
    "        response['killed_attackers_aborginal_people'] = killed['count']\n",
    "    elif killed['group'] == 'Colonisers':\n",
    "        response['killed_attackers_colonisers'] = killed['count']\n",
    "    else:\n",
    "        raise Exception(f\"Unexpected group {killed['group']}\")\n",
    "    return response\n",
    "\n",
    "    \n",
    "def clean_for_plotting(massacre: Dict):\n",
    "    estimated_date = parse_estimated_date(massacre['estimated_date'])\n",
    "    return {\n",
    "        **{\n",
    "            \"estimated_date_from\": clean_date(estimated_date['from']),\n",
    "            \"estimated_date_to\": clean_date(estimated_date['to']),\n",
    "            \"colony\": massacre['colony'],\n",
    "            \"location\": parse_cleaned_location(massacre['location']),\n",
    "            \"language_group\": massacre['language_group'],\n",
    "        },\n",
    "        **parse_attackers_killed(massacre['estimated_attackers_killed']),\n",
    "        **parse_victims_killed(massacre[\"estimated_victims_killed\"]),\n",
    "        **{\n",
    "            \"sources\": massacre['sources']\n",
    "        }\n",
    "    }\n",
    "\n",
    "massacre_data_cleaned = [\n",
    "    clean_for_plotting(m) for m in massacre_data\n",
    "]\n",
    "\n",
    "with open('aus-colonial-massacres-cleaned.json', 'w') as fp:\n",
    "    json.dump(massacre_data_cleaned, fp, indent=4)\n"
   ]
  },
  {
   "cell_type": "markdown",
   "metadata": {},
   "source": [
    "## Plot graphs"
   ]
  },
  {
   "cell_type": "code",
   "execution_count": 76,
   "metadata": {},
   "outputs": [],
   "source": [
    "import matplotlib.pyplot as plt\n",
    "import pandas as pd\n",
    "import matplotlib.dates as mdates\n",
    "from matplotlib.dates import MonthLocator, AutoDateFormatter, AutoDateLocator\n",
    "import matplotlib.ticker as ticker\n",
    "\n",
    "@ticker.FuncFormatter\n",
    "def major_formatter(x, pos):\n",
    "    return f\"{pos} {x}\"\n",
    "\n",
    "df = pd.DataFrame(massacre_data_cleaned)\n",
    "df['estimated_date_from'] = pd.to_datetime(df['estimated_date_from'])\n",
    "df['estimated_date_to'] = pd.to_datetime(df['estimated_date_to'])\n",
    "df = df[['estimated_date_from','estimated_date_to','killed_attackers_aborginal_people','killed_attackers_colonisers','killed_victims_aboriginal_people','killed_victims_colonisers','killed_victims_other']]\n",
    "melted_df = pd.melt(\n",
    "    df,\n",
    "    id_vars=['estimated_date_to'],\n",
    "    value_vars=['killed_attackers_aborginal_people','killed_attackers_colonisers','killed_victims_aboriginal_people','killed_victims_colonisers','killed_victims_other']\n",
    ")\n",
    "\n",
    "melted_df_nonnull = melted_df[melted_df.value > 0].rename(columns={'estimated_date_to': 'Estimated Date', 'variable': 'Group', 'value': 'Killed'}) \\\n",
    ".replace(\n",
    "    {\n",
    "        'killed_attackers_aborginal_people': 'Aboriginal People (Attackers)',\n",
    "        'killed_attackers_colonisers': 'Colonisers (Attackers)',\n",
    "        'killed_victims_aboriginal_people': 'Aboriginal People (Victims)',\n",
    "        'killed_victims_colonisers': 'Colonisers (Victims)',\n",
    "        'killed_victims_other': 'Other (Victims)'\n",
    "    }\n",
    ")\n",
    "\n",
    "\n",
    "monthly_df = melted_df_nonnull.append({'Estimated Date': datetime.datetime.strptime('1788-12-31', '%Y-%m-%d'), 'Group': 'Other (Victims)', 'Killed': 1}, ignore_index=True)\n",
    "ordered_group_idx = monthly_df.groupby(['Group']).sum().sort_values(by=['Killed'], ascending=False).index.values\n",
    "\n"
   ]
  },
  {
   "cell_type": "code",
   "execution_count": 82,
   "metadata": {},
   "outputs": [
    {
     "data": {
      "image/png": "[encoded data removed]",
      "text/plain": [
       "<Figure size 1440x720 with 1 Axes>"
      ]
     },
     "metadata": {
      "needs_background": "light"
     },
     "output_type": "display_data"
    }
   ],
   "source": [
    "monthly_df = (\n",
    "    melted_df_nonnull.\n",
    "    groupby(['Estimated Date', 'Group']).\n",
    "    sum().\n",
    "    reset_index().\n",
    "    set_index('Estimated Date').\n",
    "    groupby([pd.Grouper(freq='5Y'), 'Group']).\n",
    "    sum().reset_index()\n",
    ")\n",
    "\n",
    "def sort_index(idx_entry: str):\n",
    "    print(idx_entry)\n",
    "    return idx_entry\n",
    "\n",
    "monthly_df['Group'] = monthly_df['Group'].astype(\"category\")\n",
    "monthly_df['Group'].cat.as_ordered(inplace=True)\n",
    "monthly_df['Group'].cat.set_categories(ordered_group_idx, inplace=True)\n",
    "\n",
    "monthly_df['Group'] = monthly_df['Group'].astype(\"category\")\n",
    "monthly_df = monthly_df.set_index(['Estimated Date', 'Group']).sort_index()\n",
    "\n",
    "ax = monthly_df['Killed'].unstack().plot.bar(stacked=True,figsize=(20,10))\n",
    "xtl = [item.get_text()[:4] for item in ax.get_xticklabels()]\n",
    "_ = ax.set_xticklabels(xtl)\n",
    "\n",
    "plt.savefig('aus-colonial-massacres.png')"
   ]
  },
  {
   "cell_type": "code",
   "execution_count": null,
   "metadata": {},
   "outputs": [],
   "source": []
  }
 ],
 "metadata": {
  "kernelspec": {
   "display_name": "Python 3",
   "language": "python",
   "name": "python3"
  },
  "language_info": {
   "codemirror_mode": {
    "name": "ipython",
    "version": 3
   },
   "file_extension": ".py",
   "mimetype": "text/x-python",
   "name": "python",
   "nbconvert_exporter": "python",
   "pygments_lexer": "ipython3",
   "version": "3.8.8"
  }
 },
 "nbformat": 4,
 "nbformat_minor": 4
}
