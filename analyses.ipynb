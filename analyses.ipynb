{
 "cells": [
  {
   "cell_type": "code",
   "execution_count": 51,
   "metadata": {
    "tags": []
   },
   "outputs": [
    {
     "name": "stdout",
     "output_type": "stream",
     "text": [
      "Requirement already satisfied: BeautifulSoup4 in /usr/local/anaconda3/lib/python3.8/site-packages (4.9.3)\n",
      "Requirement already satisfied: soupsieve>1.2 in /usr/local/anaconda3/lib/python3.8/site-packages (from BeautifulSoup4) (2.2.1)\n",
      "Note: you may need to restart the kernel to use updated packages.\n",
      "Requirement already satisfied: requests in /usr/local/anaconda3/lib/python3.8/site-packages (2.25.1)\n",
      "Requirement already satisfied: certifi>=2017.4.17 in /usr/local/anaconda3/lib/python3.8/site-packages (from requests) (2020.12.5)\n",
      "Requirement already satisfied: idna<3,>=2.5 in /usr/local/anaconda3/lib/python3.8/site-packages (from requests) (2.10)\n",
      "Requirement already satisfied: urllib3<1.27,>=1.21.1 in /usr/local/anaconda3/lib/python3.8/site-packages (from requests) (1.26.4)\n",
      "Requirement already satisfied: chardet<5,>=3.0.2 in /usr/local/anaconda3/lib/python3.8/site-packages (from requests) (4.0.0)\n",
      "Note: you may need to restart the kernel to use updated packages.\n"
     ]
    }
   ],
   "source": [
    "%pip install BeautifulSoup4\n",
    "%pip install requests"
   ]
  },
  {
   "cell_type": "code",
   "execution_count": 104,
   "metadata": {
    "collapsed": false,
    "jupyter": {
     "outputs_hidden": false
    },
    "pycharm": {
     "name": "#%%\n"
    }
   },
   "outputs": [],
   "source": [
    "import json\n",
    "import requests\n",
    "import re\n",
    "from bs4 import BeautifulSoup\n",
    "from typing import List, Dict\n",
    "\n",
    "\n",
    "def build_soup():\n",
    "    html_doc = requests.get('https://c21ch.newcastle.edu.au/colonialmassacres/timeline.php').content\n",
    "\n",
    "    return BeautifulSoup(html_doc, 'html.parser').find(\"table\", { \"id\": \"timeline\" }).find_all('tr')\n",
    "\n",
    "\n",
    "def convert_people(row: str)-> Dict:\n",
    "    result = re.search(r'(?P<count>\\d+) \\((?P<group>[^)]+)\\)', \" \".join(row))\n",
    "    if result:\n",
    "        peoples_count = result.groupdict()\n",
    "        peoples_count['count'] = int(peoples_count['count'])\n",
    "        return peoples_count\n",
    "    \n",
    "    raise Exception(f\"Could not parse row '{row}'\")\n",
    "    \n",
    "def parse_location(location_cell):\n",
    "    return location_cell if isinstance(location_cell, list) else location_cell.contents[0]\n",
    "\n",
    "def parse_estimated_date(estimated_date: str):\n",
    "    if ' to ' in estimated_date:\n",
    "        return dict(zip(['from', 'to'], estimated_date.split(' to ')))\n",
    "    else:\n",
    "        return {'from': estimated_date, 'to': estimated_date}\n",
    "    \n",
    "    \n",
    "def convert_row_to_document(row_contents: List[str]):\n",
    "    return {\n",
    "        'estimated_date': parse_estimated_date(\"\".join(row_contents[0][0])),\n",
    "        'colony':row_contents[1][0],\n",
    "        'location': parse_location(row_contents[2][0]), \n",
    "        'language_group': \" \".join(row_contents[3]), \n",
    "        'estimated_victims_killed': convert_people(row_contents[4]), \n",
    "        'estimated_attackers_killed': convert_people(row_contents[5]), \n",
    "        'sources': \" \".join([str(s) for s in row_contents[6]])\n",
    "    }\n",
    "\n",
    "\n",
    "def extract_tds(raw_row):\n",
    "    return [\n",
    "        cell.contents\n",
    "        for cell \n",
    "        in raw_row.find_all(\"td\")\n",
    "    ]\n",
    "\n",
    "\n",
    "def build_groups():\n",
    "    soup = build_soup()\n",
    "    \n",
    "    \n",
    "    for raw_row in soup[1:]:\n",
    "        doc = convert_row_to_document(extract_tds(raw_row))\n",
    "        yield doc\n",
    "    \n",
    "\n",
    "massacre_data = list(build_groups())\n",
    "\n",
    "with open('aus-colonial-massacres.json', 'w') as fp:\n",
    "    json.dump(massacre_data, fp, indent=4)"
   ]
  },
  {
   "cell_type": "code",
   "execution_count": 107,
   "metadata": {},
   "outputs": [
    {
     "ename": "TypeError",
     "evalue": "strptime() takes exactly 2 arguments (1 given)",
     "output_type": "error",
     "traceback": [
      "\u001b[0;31m---------------------------------------------------------------------------\u001b[0m",
      "\u001b[0;31mTypeError\u001b[0m                                 Traceback (most recent call last)",
      "\u001b[0;32m<ipython-input-107-a34f28d7a4c3>\u001b[0m in \u001b[0;36m<module>\u001b[0;34m\u001b[0m\n\u001b[1;32m     11\u001b[0m     }\n\u001b[1;32m     12\u001b[0m \u001b[0;34m\u001b[0m\u001b[0m\n\u001b[0;32m---> 13\u001b[0;31m massacre_data = [\n\u001b[0m\u001b[1;32m     14\u001b[0m     \u001b[0mclean_for_plotting\u001b[0m\u001b[0;34m(\u001b[0m\u001b[0mm\u001b[0m\u001b[0;34m)\u001b[0m \u001b[0;32mfor\u001b[0m \u001b[0mm\u001b[0m \u001b[0;32min\u001b[0m \u001b[0mmassacre_data\u001b[0m\u001b[0;34m\u001b[0m\u001b[0;34m\u001b[0m\u001b[0m\n\u001b[1;32m     15\u001b[0m ]\n",
      "\u001b[0;32m<ipython-input-107-a34f28d7a4c3>\u001b[0m in \u001b[0;36m<listcomp>\u001b[0;34m(.0)\u001b[0m\n\u001b[1;32m     12\u001b[0m \u001b[0;34m\u001b[0m\u001b[0m\n\u001b[1;32m     13\u001b[0m massacre_data = [\n\u001b[0;32m---> 14\u001b[0;31m     \u001b[0mclean_for_plotting\u001b[0m\u001b[0;34m(\u001b[0m\u001b[0mm\u001b[0m\u001b[0;34m)\u001b[0m \u001b[0;32mfor\u001b[0m \u001b[0mm\u001b[0m \u001b[0;32min\u001b[0m \u001b[0mmassacre_data\u001b[0m\u001b[0;34m\u001b[0m\u001b[0;34m\u001b[0m\u001b[0m\n\u001b[0m\u001b[1;32m     15\u001b[0m ]\n\u001b[1;32m     16\u001b[0m \u001b[0;34m\u001b[0m\u001b[0m\n",
      "\u001b[0;32m<ipython-input-107-a34f28d7a4c3>\u001b[0m in \u001b[0;36mclean_for_plotting\u001b[0;34m(massacre)\u001b[0m\n\u001b[1;32m      6\u001b[0m     return {\n\u001b[1;32m      7\u001b[0m         'estimated_date': {\n\u001b[0;32m----> 8\u001b[0;31m             \u001b[0;34m'from'\u001b[0m\u001b[0;34m:\u001b[0m \u001b[0mdatetime\u001b[0m\u001b[0;34m.\u001b[0m\u001b[0mdatetime\u001b[0m\u001b[0;34m.\u001b[0m\u001b[0mstrptime\u001b[0m\u001b[0;34m(\u001b[0m\u001b[0mmassacre\u001b[0m\u001b[0;34m[\u001b[0m\u001b[0;34m'estimated_date'\u001b[0m\u001b[0;34m]\u001b[0m\u001b[0;34m[\u001b[0m\u001b[0;34m'from'\u001b[0m\u001b[0;34m]\u001b[0m\u001b[0;34m)\u001b[0m\u001b[0;34m,\u001b[0m\u001b[0;34m\u001b[0m\u001b[0;34m\u001b[0m\u001b[0m\n\u001b[0m\u001b[1;32m      9\u001b[0m             \u001b[0;34m'to'\u001b[0m\u001b[0;34m:\u001b[0m \u001b[0mdatetime\u001b[0m\u001b[0;34m.\u001b[0m\u001b[0mdatetime\u001b[0m\u001b[0;34m.\u001b[0m\u001b[0mstrptime\u001b[0m\u001b[0;34m(\u001b[0m\u001b[0mmassacre\u001b[0m\u001b[0;34m[\u001b[0m\u001b[0;34m'estimated_date'\u001b[0m\u001b[0;34m]\u001b[0m\u001b[0;34m[\u001b[0m\u001b[0;34m'to'\u001b[0m\u001b[0;34m]\u001b[0m\u001b[0;34m)\u001b[0m\u001b[0;34m,\u001b[0m\u001b[0;34m\u001b[0m\u001b[0;34m\u001b[0m\u001b[0m\n\u001b[1;32m     10\u001b[0m         }\n",
      "\u001b[0;31mTypeError\u001b[0m: strptime() takes exactly 2 arguments (1 given)"
     ]
    }
   ],
   "source": [
    "# Convert dates to python dates\n",
    "\n",
    "import datetime\n",
    "\n",
    "def clean_for_plotting(massacre: Dict):\n",
    "    return {\n",
    "        'estimated_date': {\n",
    "            'from': datetime.datetime.strptime(massacre['estimated_date']['from']).strftime('%d/%m/%Y'),\n",
    "            'to': datetime.datetime.strptime(massacre['estimated_date']['to']).strftime('%d/%m/%Y'),\n",
    "        }\n",
    "    }\n",
    "\n",
    "massacre_data = [\n",
    "    clean_for_plotting(m) for m in massacre_data\n",
    "]\n",
    "\n",
    "print(json.dumps(massacre_data, indent=4))"
   ]
  },
  {
   "cell_type": "code",
   "execution_count": null,
   "metadata": {},
   "outputs": [],
   "source": []
  },
  {
   "cell_type": "code",
   "execution_count": null,
   "metadata": {},
   "outputs": [],
   "source": []
  }
 ],
 "metadata": {
  "kernelspec": {
   "display_name": "Python 3",
   "language": "python",
   "name": "python3"
  },
  "language_info": {
   "codemirror_mode": {
    "name": "ipython",
    "version": 3
   },
   "file_extension": ".py",
   "mimetype": "text/x-python",
   "name": "python",
   "nbconvert_exporter": "python",
   "pygments_lexer": "ipython3",
   "version": "3.8.8"
  }
 },
 "nbformat": 4,
 "nbformat_minor": 4
}
