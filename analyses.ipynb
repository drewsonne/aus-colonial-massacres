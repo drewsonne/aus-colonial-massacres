{
 "cells": [
  {
   "cell_type": "code",
   "execution_count": 1,
   "metadata": {
    "tags": []
   },
   "outputs": [
    {
     "name": "stdout",
     "output_type": "stream",
     "text": [
      "Requirement already satisfied: BeautifulSoup4 in /usr/local/anaconda3/lib/python3.8/site-packages (4.9.3)\n",
      "Requirement already satisfied: soupsieve>1.2 in /usr/local/anaconda3/lib/python3.8/site-packages (from BeautifulSoup4) (2.2.1)\n",
      "Note: you may need to restart the kernel to use updated packages.\n"
     ]
    }
   ],
   "source": [
    "%pip install BeautifulSoup4\n",
    "%pip install requests"
   ]
  },
  {
   "cell_type": "code",
   "execution_count": 43,
   "metadata": {
    "collapsed": false,
    "jupyter": {
     "outputs_hidden": false
    },
    "pycharm": {
     "name": "#%%\n"
    }
   },
   "outputs": [
    {
     "name": "stdout",
     "output_type": "stream",
     "text": [
      "{'estimated_date': '1 Sep 1794', 'colony': 'NSW', 'location': ['Hawkesbury (1)'], 'language_group': 'Bediagal', 'estimated_victims_killed': {'count': '7', 'group': 'Aboriginal People'}, 'estimated_attackers_killed': {'count': '0', 'group': 'Colonisers'}, 'sources': 'Fletcher 1975: vol.1: 326; Turbet 2011: 81'}\n"
     ]
    }
   ],
   "source": [
    "import requests\n",
    "import re\n",
    "from bs4 import BeautifulSoup\n",
    "from typing import List, Dict\n",
    "\n",
    "def build_soup():\n",
    "    html_doc = requests.get('https://c21ch.newcastle.edu.au/colonialmassacres/timeline.php').content\n",
    "\n",
    "    return BeautifulSoup(html_doc, 'html.parser').find(\"table\", { \"id\": \"timeline\" }).find_all('tr')\n",
    "\n",
    "def convert_people(row: str)-> Dict:\n",
    "    result = re.search(r'(?P<count>\\d+) \\((?P<group>[^)]+)\\)', row)\n",
    "    if result:\n",
    "        return result.groupdict()\n",
    "    \n",
    "    raise Exception(f\"Could not parse row '{row}'\")\n",
    "\n",
    "def convert_row_to_document(row_contents: List[str]):\n",
    "    return {\n",
    "        'estimated_date': row_contents[0],\n",
    "        'colony':row_contents[1],\n",
    "        'location':row_contents[2].contents, \n",
    "        'language_group': row_contents[3], \n",
    "        'estimated_victims_killed': convert_people(row_contents[4]), \n",
    "        'estimated_attackers_killed': convert_people(row_contents[5]), \n",
    "        'sources':row_contents[6]\n",
    "    }\n",
    "\n",
    "for raw_row in soup[1:]:\n",
    "    row_contents = [cell.contents[0] for cell in raw_row.find_all(\"td\")]\n",
    "    row = convert_row_to_document(row_contents)\n",
    "    print(row)\n",
    "    break\n"
   ]
  },
  {
   "cell_type": "code",
   "execution_count": null,
   "metadata": {},
   "outputs": [],
   "source": []
  }
 ],
 "metadata": {
  "kernelspec": {
   "display_name": "Python 3",
   "language": "python",
   "name": "python3"
  },
  "language_info": {
   "codemirror_mode": {
    "name": "ipython",
    "version": 3
   },
   "file_extension": ".py",
   "mimetype": "text/x-python",
   "name": "python",
   "nbconvert_exporter": "python",
   "pygments_lexer": "ipython3",
   "version": "3.8.8"
  }
 },
 "nbformat": 4,
 "nbformat_minor": 4
}
